{
 "cells": [
  {
   "cell_type": "markdown",
   "metadata": {},
   "source": [
    "# Week 2 - Monday Lesson (variable assignment, loops, lists)"
   ]
  },
  {
   "cell_type": "markdown",
   "metadata": {},
   "source": [
    "## Tasks Today:\n",
    "\n",
    "1) Int & Float assignments <br>\n",
    " &nbsp;&nbsp;&nbsp;&nbsp; a) Assigning int <br>\n",
    " &nbsp;&nbsp;&nbsp;&nbsp; b) Assigning float <br>\n",
    " &nbsp;&nbsp;&nbsp;&nbsp; c) Performing Calculations on ints and floats <br>\n",
    " &nbsp;&nbsp;&nbsp;&nbsp;&nbsp;&nbsp;&nbsp;&nbsp; - Addition <br>\n",
    " &nbsp;&nbsp;&nbsp;&nbsp;&nbsp;&nbsp;&nbsp;&nbsp; - Subtraction <br>\n",
    " &nbsp;&nbsp;&nbsp;&nbsp;&nbsp;&nbsp;&nbsp;&nbsp; - Multiplication <br>\n",
    " &nbsp;&nbsp;&nbsp;&nbsp;&nbsp;&nbsp;&nbsp;&nbsp; - Division <br>\n",
    " &nbsp;&nbsp;&nbsp;&nbsp;&nbsp;&nbsp;&nbsp;&nbsp; - Floor Division <br>\n",
    " &nbsp;&nbsp;&nbsp;&nbsp;&nbsp;&nbsp;&nbsp;&nbsp; - Modulo <br>\n",
    " &nbsp;&nbsp;&nbsp;&nbsp;&nbsp;&nbsp;&nbsp;&nbsp; - Exponential <br>\n",
    "2) String Input-Output <br>\n",
    " &nbsp;&nbsp;&nbsp;&nbsp; a) String Assignment <br>\n",
    " &nbsp;&nbsp;&nbsp;&nbsp; b) print() <br>\n",
    " &nbsp;&nbsp;&nbsp;&nbsp; c) String Concatenation <br>\n",
    " &nbsp;&nbsp;&nbsp;&nbsp; d) Type Conversion <br>\n",
    " &nbsp;&nbsp;&nbsp;&nbsp; e) input() <br>\n",
    " &nbsp;&nbsp;&nbsp;&nbsp; f) format() <br>\n",
    " &nbsp;&nbsp;&nbsp;&nbsp; g) Old Way (python 2) <br>\n",
    "3) <b>In-Class Exercise #1</b> <br>\n",
    "4) If Statements <br>\n",
    " &nbsp;&nbsp;&nbsp;&nbsp; a) 'is' keyword <br>\n",
    " &nbsp;&nbsp;&nbsp;&nbsp; b) 'in' keyword <br>\n",
    " &nbsp;&nbsp;&nbsp;&nbsp; c) 'not in' keyword <br>\n",
    "5) <b>In-Class Exercise #2</b> <br>\n",
    "6) Elif Statements <br>\n",
    "7) Else Statements <br>\n",
    "8) <b>In-Class Exercise #3</b> <br>\n",
    "9) For Loops <br>\n",
    " &nbsp;&nbsp;&nbsp;&nbsp; a) Using 'in' keyword <br>\n",
    " &nbsp;&nbsp;&nbsp;&nbsp; b) Continue Statement <br>\n",
    " &nbsp;&nbsp;&nbsp;&nbsp; c) Break Statement <br>\n",
    " &nbsp;&nbsp;&nbsp;&nbsp; d) Pass Statement <br>\n",
    " &nbsp;&nbsp;&nbsp;&nbsp; e) Double For Loops <br>\n",
    "10) While Loops <br>\n",
    " &nbsp;&nbsp;&nbsp;&nbsp; a) Looping 'While True' <br>\n",
    " &nbsp;&nbsp;&nbsp;&nbsp; b) While and For Loops Used Together <br>\n",
    "11) Built-In Functions <br>\n",
    " &nbsp;&nbsp;&nbsp;&nbsp; a) range() <br>\n",
    " &nbsp;&nbsp;&nbsp;&nbsp; b) len() <br>\n",
    " &nbsp;&nbsp;&nbsp;&nbsp; c) help() <br>\n",
    " &nbsp;&nbsp;&nbsp;&nbsp; d) isinstance() <br>\n",
    " &nbsp;&nbsp;&nbsp;&nbsp; e) abs() <br>\n",
    "12) Try and Except <br>\n",
    "13) Lists <br>\n",
    " &nbsp;&nbsp;&nbsp;&nbsp; a) Declaring Lists <br>\n",
    " &nbsp;&nbsp;&nbsp;&nbsp; b) Indexing a List <br>\n",
    " &nbsp;&nbsp;&nbsp;&nbsp; c) .append() <br>\n",
    " &nbsp;&nbsp;&nbsp;&nbsp; d) .insert() <br>\n",
    " &nbsp;&nbsp;&nbsp;&nbsp; e) .pop() <br>\n",
    " &nbsp;&nbsp;&nbsp;&nbsp; f) .remove() <br>\n",
    " &nbsp;&nbsp;&nbsp;&nbsp; g) del() <br>\n",
    " &nbsp;&nbsp;&nbsp;&nbsp; h) Concatenating Two Lists <br>\n",
    " &nbsp;&nbsp;&nbsp;&nbsp; i) Lists Within Lists <br>\n",
    " &nbsp;&nbsp;&nbsp;&nbsp; j) Looping Through Lists <br>"
   ]
  },
  {
   "cell_type": "markdown",
   "metadata": {},
   "source": [
    "### Int & Float Assignments"
   ]
  },
  {
   "cell_type": "markdown",
   "metadata": {},
   "source": [
    "##### Assigning int"
   ]
  },
  {
   "cell_type": "code",
   "execution_count": 1,
   "metadata": {},
   "outputs": [],
   "source": [
    "# Integer is a whole number\n",
    "favorite_number = 23\n"
   ]
  },
  {
   "cell_type": "markdown",
   "metadata": {},
   "source": [
    "##### Assinging float"
   ]
  },
  {
   "cell_type": "code",
   "execution_count": 2,
   "metadata": {},
   "outputs": [],
   "source": [
    "# Float is a number with a decimal\n",
    "a_float = 1.5\n"
   ]
  },
  {
   "cell_type": "markdown",
   "metadata": {},
   "source": [
    "#### Performing Calculations on ints and floats"
   ]
  },
  {
   "cell_type": "markdown",
   "metadata": {},
   "source": [
    "##### Addition"
   ]
  },
  {
   "cell_type": "code",
   "execution_count": 4,
   "metadata": {},
   "outputs": [
    {
     "name": "stdout",
     "output_type": "stream",
     "text": [
      "10\n",
      "28\n",
      "23\n"
     ]
    }
   ],
   "source": [
    "print(5+5)\n",
    "\n",
    "print(favorite_number + 5)\n",
    "# Didnt reassign fav_number value\n",
    "print(favorite_number)"
   ]
  },
  {
   "cell_type": "markdown",
   "metadata": {},
   "source": [
    "##### Subtraction"
   ]
  },
  {
   "cell_type": "code",
   "execution_count": 6,
   "metadata": {},
   "outputs": [
    {
     "name": "stdout",
     "output_type": "stream",
     "text": [
      "5\n",
      "13\n",
      "1.2\n"
     ]
    }
   ],
   "source": [
    "print(10-5)\n",
    "\n",
    "print(favorite_number - 10)\n",
    "\n",
    "#re-assigning value\n",
    "# Long hand version\n",
    "favorite_number = favorite_number - 10\n",
    "# Short version\n",
    "\n",
    "# Short hand version\n",
    "a_float -= .3\n",
    "print(a_float)"
   ]
  },
  {
   "cell_type": "markdown",
   "metadata": {},
   "source": [
    "##### Multiplication"
   ]
  },
  {
   "cell_type": "code",
   "execution_count": 9,
   "metadata": {},
   "outputs": [
    {
     "name": "stdout",
     "output_type": "stream",
     "text": [
      "10\n",
      "39\n"
     ]
    },
    {
     "ename": "TypeError",
     "evalue": "'favorite_number' is an invalid keyword argument for print()",
     "output_type": "error",
     "traceback": [
      "\u001b[0;31m---------------------------------------------------------------------------\u001b[0m",
      "\u001b[0;31mTypeError\u001b[0m                                 Traceback (most recent call last)",
      "Cell \u001b[0;32mIn[9], line 6\u001b[0m\n\u001b[1;32m      3\u001b[0m \u001b[38;5;28mprint\u001b[39m(favorite_number \u001b[38;5;241m*\u001b[39m \u001b[38;5;241m3\u001b[39m)\n\u001b[1;32m      4\u001b[0m \u001b[38;5;66;03m#reassign\u001b[39;00m\n\u001b[1;32m      5\u001b[0m \u001b[38;5;66;03m# Long hand\u001b[39;00m\n\u001b[0;32m----> 6\u001b[0m \u001b[38;5;28;43mprint\u001b[39;49m\u001b[43m(\u001b[49m\u001b[43mfavorite_number\u001b[49m\u001b[43m \u001b[49m\u001b[38;5;241;43m=\u001b[39;49m\u001b[43m \u001b[49m\u001b[43mfavorite_number\u001b[49m\u001b[43m \u001b[49m\u001b[38;5;241;43m*\u001b[39;49m\u001b[38;5;241;43m3\u001b[39;49m\u001b[43m)\u001b[49m\n\u001b[1;32m      7\u001b[0m \u001b[38;5;28mprint\u001b[39m(favorite_number)\n\u001b[1;32m      9\u001b[0m \u001b[38;5;66;03m#Short Version\u001b[39;00m\n",
      "\u001b[0;31mTypeError\u001b[0m: 'favorite_number' is an invalid keyword argument for print()"
     ]
    }
   ],
   "source": [
    "print(5*2)\n",
    "\n",
    "print(favorite_number * 3)\n",
    "#reassign\n",
    "# Long hand\n",
    "print(favorite_number = favorite_number *3)\n",
    "print(favorite_number)\n",
    "\n",
    "#Short Version\n",
    "favorite_number *= 3\n",
    "print(favorite_number)"
   ]
  },
  {
   "cell_type": "markdown",
   "metadata": {},
   "source": [
    "##### Division"
   ]
  },
  {
   "cell_type": "code",
   "execution_count": 12,
   "metadata": {},
   "outputs": [
    {
     "name": "stdout",
     "output_type": "stream",
     "text": [
      "5.0\n",
      "4.333333333333333\n",
      "4.333333333333333\n"
     ]
    }
   ],
   "source": [
    "print(10/2)\n",
    "\n",
    "print(favorite_number / 3)\n",
    "\n",
    "#Short version\n",
    "\n",
    "favorite_number /= 3\n",
    "print(favorite_number)"
   ]
  },
  {
   "cell_type": "markdown",
   "metadata": {},
   "source": [
    "##### Floor Division"
   ]
  },
  {
   "cell_type": "code",
   "execution_count": 14,
   "metadata": {},
   "outputs": [
    {
     "name": "stdout",
     "output_type": "stream",
     "text": [
      "5\n"
     ]
    }
   ],
   "source": [
    "#Divide no and return an integer instead of a float (rounds down)\n",
    "#output the original data type between int // float\n",
    "#to give floor division response - 2 backslashes\n",
    "\n",
    "print(11//2)\n",
    "\n",
    "#Re-assigning value\n",
    "favorite_number //=9\n"
   ]
  },
  {
   "cell_type": "markdown",
   "metadata": {},
   "source": [
    "##### Modulo"
   ]
  },
  {
   "cell_type": "code",
   "execution_count": 17,
   "metadata": {},
   "outputs": [
    {
     "name": "stdout",
     "output_type": "stream",
     "text": [
      "0\n",
      "1\n",
      "24\n"
     ]
    }
   ],
   "source": [
    "#Divide 2 numbers and output the REMAINDER OF the 2 number\n",
    "#use \"%\" sign\n",
    "#even number would return a 0, odd number would return a value\n",
    "\n",
    "print(10 % 2)\n",
    "\n",
    "print(11 % 2)\n",
    "\n",
    "print(124 % 25)\n"
   ]
  },
  {
   "cell_type": "markdown",
   "metadata": {},
   "source": [
    "##### Exponential"
   ]
  },
  {
   "cell_type": "code",
   "execution_count": 21,
   "metadata": {},
   "outputs": [
    {
     "ename": "SyntaxError",
     "evalue": "invalid syntax (91652184.py, line 14)",
     "output_type": "error",
     "traceback": [
      "\u001b[0;36m  Cell \u001b[0;32mIn[21], line 14\u001b[0;36m\u001b[0m\n\u001b[0;31m    my_num ** =2\u001b[0m\n\u001b[0m              ^\u001b[0m\n\u001b[0;31mSyntaxError\u001b[0m\u001b[0;31m:\u001b[0m invalid syntax\n"
     ]
    }
   ],
   "source": [
    "# **\n",
    "# squaring\n",
    "\n",
    "print(10**2)\n",
    "\n",
    "print(10**3)\n",
    "\n",
    "my_num = 10\n",
    "#reassign\n",
    "#longhand\n",
    "my_num = my_num **2\n",
    "print(my_num)\n",
    "#short hand\n",
    "my_num ** =2\n",
    "print(my_num)"
   ]
  },
  {
   "cell_type": "markdown",
   "metadata": {},
   "source": [
    "### String Input-Output"
   ]
  },
  {
   "cell_type": "markdown",
   "metadata": {},
   "source": [
    "##### String Assignment"
   ]
  },
  {
   "cell_type": "code",
   "execution_count": 23,
   "metadata": {},
   "outputs": [
    {
     "name": "stdout",
     "output_type": "stream",
     "text": [
      "<class 'str'>\n",
      "<class 'str'>\n"
     ]
    }
   ],
   "source": [
    "instructor = 'Sean'\n",
    "\n",
    "print(type(instructor))\n",
    "\n",
    "num_string = '500'\n",
    "\n",
    "print(type(num_string))"
   ]
  },
  {
   "cell_type": "markdown",
   "metadata": {},
   "source": [
    "##### print() <br>\n",
    "<p>Don't forget about end=' '</p>"
   ]
  },
  {
   "cell_type": "code",
   "execution_count": 25,
   "metadata": {},
   "outputs": [
    {
     "ename": "TypeError",
     "evalue": "can only concatenate str (not \"int\") to str",
     "output_type": "error",
     "traceback": [
      "\u001b[0;31m---------------------------------------------------------------------------\u001b[0m",
      "\u001b[0;31mTypeError\u001b[0m                                 Traceback (most recent call last)",
      "Cell \u001b[0;32mIn[25], line 2\u001b[0m\n\u001b[1;32m      1\u001b[0m \u001b[38;5;66;03m#convert num string\u001b[39;00m\n\u001b[0;32m----> 2\u001b[0m \u001b[43mnum_string\u001b[49m\u001b[43m \u001b[49m\u001b[38;5;241;43m+\u001b[39;49m\u001b[43m \u001b[49m\u001b[38;5;241;43m100\u001b[39;49m\n\u001b[1;32m      4\u001b[0m \u001b[38;5;28mprint\u001b[39m(my_num)\n",
      "\u001b[0;31mTypeError\u001b[0m: can only concatenate str (not \"int\") to str"
     ]
    }
   ],
   "source": [
    "#convert num string\n",
    "num_string + 100\n",
    "\n",
    "print(my_num)\n",
    "\n",
    "print(instructor, end='/n')\n",
    "\n",
    "# end by default is new line /n can overwrite by adding end argument\n",
    "print(instructor, end=' Currie ')\n",
    "print('hello world')\n",
    "print('test')"
   ]
  },
  {
   "cell_type": "markdown",
   "metadata": {},
   "source": [
    "##### String Concatenation"
   ]
  },
  {
   "cell_type": "code",
   "execution_count": 31,
   "metadata": {},
   "outputs": [
    {
     "name": "stdout",
     "output_type": "stream",
     "text": [
      "AgentSmith\n",
      "AgentSmith\n",
      "dylan jr\n",
      "dylan jr smith\n"
     ]
    }
   ],
   "source": [
    "#adding strings\n",
    "first_name = 'Agent'\n",
    "last_name = 'Smith'\n",
    "\n",
    "full_name = first_name + last_name\n",
    "print(full_name) #there was no space, so change to below to include space\n",
    "\n",
    "full_name = first_name + '' + last_name\n",
    "print(full_name)\n",
    "\n",
    "#reassign\n",
    "my_name ='dylan'\n",
    "\n",
    "#short version\n",
    "my_name += ' jr'\n",
    "print(my_name)\n",
    "\n",
    "#long version\n",
    "my_name = my_name + ' smith'\n",
    "print(my_name)"
   ]
  },
  {
   "cell_type": "markdown",
   "metadata": {},
   "source": [
    "##### Type Conversion"
   ]
  },
  {
   "cell_type": "code",
   "execution_count": 32,
   "metadata": {},
   "outputs": [
    {
     "ename": "NameError",
     "evalue": "name 'my_num' is not defined",
     "output_type": "error",
     "traceback": [
      "\u001b[0;31m---------------------------------------------------------------------------\u001b[0m",
      "\u001b[0;31mNameError\u001b[0m                                 Traceback (most recent call last)",
      "Cell \u001b[0;32mIn[32], line 1\u001b[0m\n\u001b[0;32m----> 1\u001b[0m \u001b[38;5;28mprint\u001b[39m(\u001b[43mmy_num\u001b[49m, \u001b[38;5;28mtype\u001b[39m(my_num))\n\u001b[1;32m      2\u001b[0m \u001b[38;5;28mstr\u001b[39m()\n",
      "\u001b[0;31mNameError\u001b[0m: name 'my_num' is not defined"
     ]
    }
   ],
   "source": [
    "#str() function is out of place not changing orgiginal type must re-assign \n",
    "\n",
    "print(my_num, type(my_num))\n",
    "str()\n",
    "\n",
    "#answer 10,000<class 'int>'\n",
    "\n",
    "#reassgn to converted number\n",
    "my_num = str(my_num)\n",
    "\n",
    "#convert to int with int\n",
    "\n",
    "print(my_num, type(my_num))\n",
    "int(my_num)\n",
    "\n",
    "print(type(my_num))\n",
    "\n",
    "#reassign to new type\n",
    "my_num = int(my_num)"
   ]
  },
  {
   "cell_type": "markdown",
   "metadata": {},
   "source": [
    "##### input()"
   ]
  },
  {
   "cell_type": "code",
   "execution_count": null,
   "metadata": {},
   "outputs": [],
   "source": [
    "#pass argumrnt that will serve as a prompt\n",
    "\n",
    "\n",
    "#input() takes a prompt as an argument\n",
    "\n",
    "#always returns a string\n",
    "#make sure to add a space after the ? mark \n",
    "\n",
    "user_name = input('what is your name? ')\n",
    "user_age = input('WHat is your age? ENter in digits ')\n",
    "user_age = int(user_age)\n",
    "user_age +=1\n",
    "print(user_age)"
   ]
  },
  {
   "cell_type": "markdown",
   "metadata": {},
   "source": [
    "##### format()"
   ]
  },
  {
   "cell_type": "code",
   "execution_count": null,
   "metadata": {},
   "outputs": [],
   "source": [
    "#this is a method, if a number use curly braces as place holder\n",
    "#methods are .format with () to addd a \n",
    "\n",
    "print('User {} is {} years old'.format(user_age))"
   ]
  },
  {
   "cell_type": "code",
   "execution_count": null,
   "metadata": {},
   "outputs": [],
   "source": []
  },
  {
   "cell_type": "markdown",
   "metadata": {},
   "source": [
    "##### Old Way (python 2)"
   ]
  },
  {
   "cell_type": "code",
   "execution_count": null,
   "metadata": {},
   "outputs": [],
   "source": [
    "print('User is %s is %s years old'%user_name)"
   ]
  },
  {
   "cell_type": "code",
   "execution_count": null,
   "metadata": {},
   "outputs": [],
   "source": [
    "print(f'User {user_name} is {user_age} years old')"
   ]
  },
  {
   "cell_type": "markdown",
   "metadata": {},
   "source": [
    "# In-Class Exercise 1 <br>\n",
    "<p>Create a format statement that asks for color, year, make, model and prints out the results</p>"
   ]
  },
  {
   "cell_type": "code",
   "execution_count": 1,
   "metadata": {},
   "outputs": [
    {
     "name": "stdout",
     "output_type": "stream",
     "text": [
      "What is the color of the car?\n",
      "white\n",
      "What is the year of the car?\n",
      "2011\n",
      "What is the make of the car?\n",
      "honda\n",
      "What is the model of the car?\n",
      "ex\n",
      "I drive a white 2011 honda ex!\n"
     ]
    }
   ],
   "source": [
    "color = input('What is the color of the car?\\n') #makes the response on the 2nd line used formatted string \\n\n",
    "year = input('What is the year of the car?\\n')\n",
    "make =  input('What is the make of the car?\\n')\n",
    "model = input('What is the model of the car?\\n')\n",
    "\n",
    "\n",
    "print(f'I drive a {color} {year} {make} {model}!')\n"
   ]
  },
  {
   "cell_type": "markdown",
   "metadata": {},
   "source": [
    "### If Statements"
   ]
  },
  {
   "cell_type": "code",
   "execution_count": 4,
   "metadata": {},
   "outputs": [
    {
     "ename": "SyntaxError",
     "evalue": "invalid syntax (3823725861.py, line 16)",
     "output_type": "error",
     "traceback": [
      "\u001b[0;36m  Cell \u001b[0;32mIn[4], line 16\u001b[0;36m\u001b[0m\n\u001b[0;31m    if 0;\u001b[0m\n\u001b[0m        ^\u001b[0m\n\u001b[0;31mSyntaxError\u001b[0m\u001b[0;31m:\u001b[0m invalid syntax\n"
     ]
    }
   ],
   "source": [
    "# if(boolean): #(this is setting a condition)\n",
    "\n",
    "#action will always be indented in the condition and add :\n",
    "\n",
    "#you can have more than 1\n",
    "\n",
    "if True:\n",
    "    print(\"condition true\")\n",
    "    \n",
    "if 1:\n",
    "    print('one true')\n",
    "    \n",
    "if 5:\n",
    "    print('true')\n",
    "    \n",
    "if 0;\n",
    "print('zero true')"
   ]
  },
  {
   "cell_type": "code",
   "execution_count": 5,
   "metadata": {},
   "outputs": [
    {
     "name": "stdout",
     "output_type": "stream",
     "text": [
      "five > 4\n",
      "5==5\n",
      "10 > 9\n"
     ]
    }
   ],
   "source": [
    "# Available operators: Greater(>), Less(<),Equal(==)\n",
    "# Greater or Equal(>=), Less or Equal (<=)\n",
    "\n",
    "# indentationError \n",
    "# if 5 > 4:\n",
    "# print('five > 4')\n",
    "\n",
    "if 5 > 4:\n",
    "    print('five > 4')\n",
    "\n",
    "print(5<4)\n",
    "if 5 < 4:\n",
    "#     Skip action boolean/condition is false\n",
    "    print('five < 4')\n",
    "\n",
    "\n",
    "if 5 == 5:\n",
    "    print('5 == 5')\n",
    "    \n",
    "if 5 + 5 > 9:\n",
    "    print('10 > 9')\n",
    "    \n",
    "if 5 + 5 > 10:\n",
    "    print('10 > 10')\n",
    "    \n",
    "if 5 + 5 >= 10:\n",
    "    print('10 >= 10')\n",
    "    \n",
    "if 5 + 5 <= 10:\n",
    "    print('10 <= 10')\n",
    "    \n",
    "if 10 != 9:\n",
    "    print('10 != (not equal) 9')\n",
    "\n",
    "# not equal\n",
    "print(10!=10)\n",
    "if 10 != 10:\n",
    "    print('10 != (not equal) 9')\n",
    "    \n",
    "    "
   ]
  },
  {
   "cell_type": "code",
   "execution_count": 12,
   "metadata": {},
   "outputs": [
    {
     "ename": "IndentationError",
     "evalue": "unindent does not match any outer indentation level (<tokenize>, line 36)",
     "output_type": "error",
     "traceback": [
      "\u001b[0;36m  File \u001b[0;32m<tokenize>:36\u001b[0;36m\u001b[0m\n\u001b[0;31m    if 1 > 2 or 2 > 3:\u001b[0m\n\u001b[0m    ^\u001b[0m\n\u001b[0;31mIndentationError\u001b[0m\u001b[0;31m:\u001b[0m unindent does not match any outer indentation level\n"
     ]
    }
   ],
   "source": [
    "# Truth Tree:\n",
    "# T and F = F\n",
    "# T and T = T\n",
    "# F + F = F\n",
    "# T or F = T\n",
    "# F or T = T\n",
    "# F or F = F\n",
    "\n",
    "if True and False:\n",
    "    print('true and false')\n",
    "    \n",
    "if True or False:\n",
    "    print('true or false')    \n",
    "    \n",
    "if 5+5 ==10 and 11 >10:\n",
    "    print('11 > 10 == 10')\n",
    "    print('second action')\n",
    "    \n",
    "# T and F\n",
    "        \n",
    "if 5+5 > 10 and 11 >10:\n",
    "    print('11 <  == 10')\n",
    "    print('second action')\n",
    "    \n",
    "    \n",
    "#first condition returns F fosnt check 2nd confition\n",
    "    \n",
    "if 10 == 11 and int(input('what is your age')) > 18:\n",
    "    print(breaking at firs condidiont)\n",
    "    \n",
    "# T or T\n",
    "if 1 > 0 or 10 == 10:\n",
    "    print('both true')\n",
    "    \n",
    "    #F or F\n",
    " if 1 > 2 or 2 > 3:\n",
    "    print('both true using or')"
   ]
  },
  {
   "cell_type": "markdown",
   "metadata": {},
   "source": [
    "##### 'is' keyword"
   ]
  },
  {
   "cell_type": "code",
   "execution_count": 14,
   "metadata": {
    "scrolled": true
   },
   "outputs": [
    {
     "name": "stdout",
     "output_type": "stream",
     "text": [
      "[1, 2, 3, 4]\n",
      "True\n",
      "[1, 2, 3, 4, 5]\n",
      "[1, 2, 3, 4]\n"
     ]
    }
   ],
   "source": [
    "simple_list = [1,2,3,4]\n",
    "basic_list = [1,2,3,4]\n",
    "# True\n",
    "simple_list == basic_list\n",
    "# False\n",
    "simple_list is basic_list\n",
    "\n",
    "simple_list_copy = simple_list\n",
    "print(simple_list_copy)\n",
    "\n",
    "print(simple_list_copy is simple_list)\n",
    "# adding to same list of simple and simple copy\n",
    "simple_list.append(5)\n",
    "\n",
    "print(simple_list_copy)\n",
    "# uneffected\n",
    "print(basic_list)"
   ]
  },
  {
   "cell_type": "markdown",
   "metadata": {},
   "source": [
    "##### 'in' keyword"
   ]
  },
  {
   "cell_type": "code",
   "execution_count": 17,
   "metadata": {},
   "outputs": [
    {
     "name": "stdout",
     "output_type": "stream",
     "text": [
      "True\n",
      "False\n",
      "True\n",
      "False\n",
      "N in Neo\n"
     ]
    }
   ],
   "source": [
    "# membership check\n",
    "\n",
    "character = \"Neo\"\n",
    "print('N' in character)\n",
    "\n",
    "#case sensitive\n",
    "print('n' in character)\n",
    "\n",
    "print(\"neo\" in 'neo')\n",
    "#out of order\n",
    "print('one' in 'neo')\n",
    "\n",
    "if \"N\" in 'Neo':\n",
    "    print('N in Neo')"
   ]
  },
  {
   "cell_type": "markdown",
   "metadata": {},
   "source": [
    "##### 'not in' keyword'"
   ]
  },
  {
   "cell_type": "code",
   "execution_count": null,
   "metadata": {},
   "outputs": [],
   "source": [
    "if 'z' not in character:\n",
    "    print('no z in Neo')\n",
    "    \n",
    "if 'n' not in 'neo':\n",
    "    print('no in neo')"
   ]
  },
  {
   "cell_type": "markdown",
   "metadata": {},
   "source": [
    "# In-Class Exercise 2 <br>\n",
    "<p>Ask user for input, check to see if the letter 'p' is in the input</p>"
   ]
  },
  {
   "cell_type": "code",
   "execution_count": null,
   "metadata": {},
   "outputs": [],
   "source": [
    "input = 'word'\n",
    "print('yes' in word)\n",
    "\n",
    "p is in the word\n",
    "\n",
    "\n",
    "\n",
    "if 'p' not in character:\n",
    "    print('no p in Neo')\n",
    "    \n",
    "if 'n' not in 'neo':\n",
    "    print('no in neo')\n",
    "    \n",
    "    "
   ]
  },
  {
   "cell_type": "markdown",
   "metadata": {},
   "source": [
    "## Using 'and'/'or' with If Statements"
   ]
  },
  {
   "cell_type": "code",
   "execution_count": null,
   "metadata": {},
   "outputs": [],
   "source": [
    "#the F & F section"
   ]
  },
  {
   "cell_type": "markdown",
   "metadata": {},
   "source": [
    "### Elif Statements"
   ]
  },
  {
   "cell_type": "code",
   "execution_count": null,
   "metadata": {},
   "outputs": [],
   "source": [
    "#chaining conditions to be true, if true then associate action automatically\n",
    "\n",
    "\n",
    "if 5 + 5 ==10:\n",
    "    print('10 ==10')\n",
    "elif 100> 99:\n",
    "    print('100 > 99')\n",
    "    \n",
    "#check both conditions\n",
    "\n",
    "#if 5 + 5 ==10:\n",
    "    #print('10 ==10')\n",
    "#elif 100> 99:\n",
    "    #print('100 > 99')\n",
    " \n",
    "#chaining multiple conditions\n",
    "\n",
    "if False:\n",
    "    print('false')\n",
    "elif 0:\n",
    "    print('0')\n",
    "elif 1:\n",
    "    print('1')"
   ]
  },
  {
   "cell_type": "markdown",
   "metadata": {},
   "source": [
    "### Else Statements"
   ]
  },
  {
   "cell_type": "code",
   "execution_count": null,
   "metadata": {},
   "outputs": [],
   "source": [
    "# see above\n",
    "# if false no other condition to check\n",
    "\n",
    "if 'a' in 'morpheus'\n",
    "    print('a in morpheus')\n",
    "else:\n",
    "    print('no a in morpheus')\n",
    "    \n",
    "    if 'a' in 'neo':\n",
    "        print('a in neo')\n",
    "        \n",
    "    elif 'z' in. 'neo':\n",
    "        print('n in neo')\n",
    "    else:\n",
    "        print('no a or n in neo')"
   ]
  },
  {
   "cell_type": "markdown",
   "metadata": {},
   "source": [
    "### For Loops"
   ]
  },
  {
   "cell_type": "code",
   "execution_count": 20,
   "metadata": {},
   "outputs": [
    {
     "name": "stdout",
     "output_type": "stream",
     "text": [
      "n\n",
      "1\n",
      "e\n",
      "2\n",
      "o\n",
      "3\n",
      " \n",
      "4\n",
      "i\n",
      "5\n",
      "s\n",
      "6\n",
      " \n",
      "7\n",
      "t\n",
      "8\n",
      "h\n",
      "9\n",
      "e\n",
      "10\n",
      " \n",
      "11\n",
      "o\n",
      "12\n",
      "n\n",
      "13\n",
      "e\n",
      "14\n"
     ]
    }
   ],
   "source": [
    "# for keyword, loop variables, in, iterable (could be a string, a list, a dictionary, a set, touple) \n",
    "#\"for\" is a for loop\n",
    "#use counters for our for loop\n",
    "#store integer, start at 0\n",
    "#rangec common in for loop\n",
    "\n",
    "count = 0\n",
    "for char in 'neo is the one': #goes through each step of our string, like action in conditional statement, need to be indented\n",
    "    print(char)\n",
    "    count+=1\n",
    "    print(count)"
   ]
  },
  {
   "cell_type": "code",
   "execution_count": 21,
   "metadata": {},
   "outputs": [
    {
     "name": "stdout",
     "output_type": "stream",
     "text": [
      "0\n",
      "1\n",
      "2\n",
      "3\n",
      "4\n",
      "5\n",
      "6\n",
      "7\n",
      "8\n",
      "9\n"
     ]
    }
   ],
   "source": [
    "#range is not inclusive\n",
    "\n",
    "for num in range(10):\n",
    "    print(num)\n",
    "    \n",
    " # range(start, stop, step) \n",
    "\n",
    "for num in range(1,11):\n",
    "    print(num)"
   ]
  },
  {
   "cell_type": "markdown",
   "metadata": {},
   "source": [
    "##### Using 'in' keyword"
   ]
  },
  {
   "cell_type": "code",
   "execution_count": null,
   "metadata": {},
   "outputs": [],
   "source": [
    "# see above\n",
    "\n",
    "#looping thru everything in our iterable"
   ]
  },
  {
   "cell_type": "markdown",
   "metadata": {},
   "source": [
    "##### Continue Statement"
   ]
  },
  {
   "cell_type": "code",
   "execution_count": null,
   "metadata": {},
   "outputs": [],
   "source": [
    "# will continue to next iteration\n",
    "#skip to the top\n",
    "#once true, dont keep going"
   ]
  },
  {
   "cell_type": "code",
   "execution_count": 23,
   "metadata": {},
   "outputs": [
    {
     "name": "stdout",
     "output_type": "stream",
     "text": [
      "0\n",
      "1\n",
      "2\n",
      "3\n",
      "4\n",
      "6\n",
      "7\n",
      "8\n",
      "9\n"
     ]
    }
   ],
   "source": [
    "for num in range(10):\n",
    "    if num == 5:\n",
    "        continue\n",
    "    print(num)    "
   ]
  },
  {
   "cell_type": "markdown",
   "metadata": {},
   "source": [
    "##### Break Statement"
   ]
  },
  {
   "cell_type": "code",
   "execution_count": null,
   "metadata": {},
   "outputs": [],
   "source": [
    "# will break out of current loop\n",
    "# once i get to 5, break out the for loop"
   ]
  },
  {
   "cell_type": "code",
   "execution_count": 22,
   "metadata": {},
   "outputs": [
    {
     "name": "stdout",
     "output_type": "stream",
     "text": [
      "0\n",
      "1\n",
      "2\n",
      "3\n",
      "4\n"
     ]
    }
   ],
   "source": [
    "for num in range(10):\n",
    "    if num == 5:\n",
    "        break\n",
    "    print(num) "
   ]
  },
  {
   "cell_type": "markdown",
   "metadata": {},
   "source": [
    "##### Pass Statement"
   ]
  },
  {
   "cell_type": "code",
   "execution_count": null,
   "metadata": {},
   "outputs": [],
   "source": [
    "# mostly used as a placeholder, and will continue on same iteration"
   ]
  },
  {
   "cell_type": "code",
   "execution_count": 24,
   "metadata": {},
   "outputs": [
    {
     "name": "stdout",
     "output_type": "stream",
     "text": [
      "0\n",
      "1\n",
      "2\n",
      "3\n",
      "4\n",
      "5\n",
      "6\n",
      "7\n",
      "8\n",
      "9\n"
     ]
    }
   ],
   "source": [
    "def get_user_age():\n",
    "    pass\n",
    "def calculate_age():\n",
    "    pass\n",
    "\n",
    "for num in range(10):\n",
    "    if num == 5:\n",
    "        pass\n",
    "    print(num)  "
   ]
  },
  {
   "cell_type": "markdown",
   "metadata": {},
   "source": [
    "##### Double For Loops"
   ]
  },
  {
   "cell_type": "code",
   "execution_count": 28,
   "metadata": {},
   "outputs": [
    {
     "name": "stdout",
     "output_type": "stream",
     "text": [
      "0 s\n",
      "0 e\n",
      "0 a\n",
      "0 n\n",
      "nested loop completed\n",
      "1 s\n",
      "1 e\n",
      "1 a\n",
      "1 n\n",
      "nested loop completed\n",
      "2 s\n",
      "2 e\n",
      "2 a\n",
      "2 n\n",
      "nested loop completed\n",
      "3 s\n",
      "3 e\n",
      "3 a\n",
      "3 n\n",
      "nested loop completed\n",
      "4 s\n",
      "4 e\n",
      "4 a\n",
      "4 n\n",
      "nested loop completed\n"
     ]
    }
   ],
   "source": [
    "#num is 0, loop thru sean, charcter start at s, print num and s, havent compelted 2nd line of cose, \n",
    "#loop thru sean 5 times\n",
    "#loop thru character with 0, then loop thru sean\n",
    "\n",
    "for num in range(5):\n",
    "    for char in 'sean':\n",
    "        print(num,char)\n",
    "    print('nested loop completed') "
   ]
  },
  {
   "cell_type": "code",
   "execution_count": 29,
   "metadata": {},
   "outputs": [
    {
     "name": "stdout",
     "output_type": "stream",
     "text": [
      "0  0\n",
      "0  1\n",
      "0  2\n",
      "0  3\n",
      "0  4\n",
      "0  5\n",
      "0  6\n",
      "0  7\n",
      "0  8\n",
      "0  9\n",
      "nested loop completed\n",
      "1  0\n",
      "1  1\n",
      "1  2\n",
      "1  3\n",
      "1  4\n",
      "1  5\n",
      "1  6\n",
      "1  7\n",
      "1  8\n",
      "1  9\n",
      "nested loop completed\n",
      "2  0\n",
      "2  1\n",
      "2  2\n",
      "2  3\n",
      "2  4\n",
      "2  5\n",
      "2  6\n",
      "2  7\n",
      "2  8\n",
      "2  9\n",
      "nested loop completed\n",
      "3  0\n",
      "3  1\n",
      "3  2\n",
      "3  3\n",
      "3  4\n",
      "3  5\n",
      "3  6\n",
      "3  7\n",
      "3  8\n",
      "3  9\n",
      "nested loop completed\n",
      "4  0\n",
      "4  1\n",
      "4  2\n",
      "4  3\n",
      "4  4\n",
      "4  5\n",
      "4  6\n",
      "4  7\n",
      "4  8\n",
      "4  9\n",
      "nested loop completed\n",
      "5  0\n",
      "5  1\n",
      "5  2\n",
      "5  3\n",
      "5  4\n",
      "5  5\n",
      "5  6\n",
      "5  7\n",
      "5  8\n",
      "5  9\n",
      "nested loop completed\n",
      "6  0\n",
      "6  1\n",
      "6  2\n",
      "6  3\n",
      "6  4\n",
      "6  5\n",
      "6  6\n",
      "6  7\n",
      "6  8\n",
      "6  9\n",
      "nested loop completed\n",
      "7  0\n",
      "7  1\n",
      "7  2\n",
      "7  3\n",
      "7  4\n",
      "7  5\n",
      "7  6\n",
      "7  7\n",
      "7  8\n",
      "7  9\n",
      "nested loop completed\n",
      "8  0\n",
      "8  1\n",
      "8  2\n",
      "8  3\n",
      "8  4\n",
      "8  5\n",
      "8  6\n",
      "8  7\n",
      "8  8\n",
      "8  9\n",
      "nested loop completed\n",
      "9  0\n",
      "9  1\n",
      "9  2\n",
      "9  3\n",
      "9  4\n",
      "9  5\n",
      "9  6\n",
      "9  7\n",
      "9  8\n",
      "9  9\n",
      "nested loop completed\n"
     ]
    }
   ],
   "source": [
    "#another ex:\n",
    "\n",
    "for x in range(10):\n",
    "    for y in range(10):\n",
    "        print(x,'',y)\n",
    "    print('nested loop completed')    "
   ]
  },
  {
   "cell_type": "markdown",
   "metadata": {},
   "source": [
    "### While Loops"
   ]
  },
  {
   "cell_type": "code",
   "execution_count": null,
   "metadata": {},
   "outputs": [],
   "source": [
    "#gives you control in loop\n",
    "#helps with looping in javascript, \n",
    "#syntax is \"while\", instead of loop variable, wite the condition to keep looping\n",
    "#controlling implemeting loop\n",
    "#make sure to declare variable\n",
    "#DONT RUN, RUNS FOREVER*************************************\n",
    "\n",
    "num = 0\n",
    "while num < 100:\n",
    "    print(num)\n",
    "    num +=1"
   ]
  },
  {
   "cell_type": "markdown",
   "metadata": {},
   "source": [
    "##### Looping 'While True'"
   ]
  },
  {
   "cell_type": "code",
   "execution_count": null,
   "metadata": {},
   "outputs": [],
   "source": [
    "#print while true\n",
    "#set condition that is true or false\n",
    "#DONT RUN, RUNS FOREVER*************************************\n",
    "i = 0\n",
    "while True:\n",
    "    print('hello')\n",
    "    i+=1\n",
    "    if i ==100:#\n",
    "        break #stops at 100 now cuz of break, if there is no condition to do break"
   ]
  },
  {
   "cell_type": "markdown",
   "metadata": {},
   "source": [
    "##### While & For Loops Used Together"
   ]
  },
  {
   "cell_type": "code",
   "execution_count": 31,
   "metadata": {},
   "outputs": [
    {
     "ename": "IndentationError",
     "evalue": "expected an indented block after 'for' statement on line 3 (2797045077.py, line 4)",
     "output_type": "error",
     "traceback": [
      "\u001b[0;36m  Cell \u001b[0;32mIn[31], line 4\u001b[0;36m\u001b[0m\n\u001b[0;31m    print(num,' ', char)\u001b[0m\n\u001b[0m    ^\u001b[0m\n\u001b[0;31mIndentationError\u001b[0m\u001b[0;31m:\u001b[0m expected an indented block after 'for' statement on line 3\n"
     ]
    }
   ],
   "source": [
    "num = 0\n",
    "while num < 5:\n",
    "    for char in 'sean':\n",
    "    print(num,' ', char)\n",
    "    num += 1"
   ]
  },
  {
   "cell_type": "markdown",
   "metadata": {},
   "source": [
    "### Built-In Functions"
   ]
  },
  {
   "cell_type": "markdown",
   "metadata": {},
   "source": [
    "##### range()"
   ]
  },
  {
   "cell_type": "code",
   "execution_count": 32,
   "metadata": {},
   "outputs": [
    {
     "name": "stdout",
     "output_type": "stream",
     "text": [
      "range(0, 10)\n"
     ]
    }
   ],
   "source": [
    "#range(start,stop,step)\n",
    "#only one required argumrnt would be stop\n",
    "#start defaults to 0 and step defaults to 1\n",
    "print(range(10))"
   ]
  },
  {
   "cell_type": "markdown",
   "metadata": {},
   "source": [
    "##### len()"
   ]
  },
  {
   "cell_type": "code",
   "execution_count": 35,
   "metadata": {},
   "outputs": [
    {
     "name": "stdout",
     "output_type": "stream",
     "text": [
      "0\n",
      "1\n",
      "2\n",
      "3\n",
      "4\n",
      "5\n",
      "6\n",
      "7\n",
      "8\n",
      "9\n",
      "10\n"
     ]
    }
   ],
   "source": [
    "#length\n",
    "#go thru each character and return that value, will return the length of it\n",
    "\n",
    "\n",
    "\n",
    "#strings and lists built on index system, every character or position has 2 valies, index is position, and starts at 0\n",
    "#if starts at 0, then minus 1 for total\n",
    "\n",
    "len('sean currie')\n",
    "\n",
    "\n",
    "for i in range(11):\n",
    "    print(i)"
   ]
  },
  {
   "cell_type": "markdown",
   "metadata": {},
   "source": [
    "##### help()"
   ]
  },
  {
   "cell_type": "code",
   "execution_count": 36,
   "metadata": {},
   "outputs": [
    {
     "name": "stdout",
     "output_type": "stream",
     "text": [
      "Help on class range in module builtins:\n",
      "\n",
      "class range(object)\n",
      " |  range(stop) -> range object\n",
      " |  range(start, stop[, step]) -> range object\n",
      " |  \n",
      " |  Return an object that produces a sequence of integers from start (inclusive)\n",
      " |  to stop (exclusive) by step.  range(i, j) produces i, i+1, i+2, ..., j-1.\n",
      " |  start defaults to 0, and stop is omitted!  range(4) produces 0, 1, 2, 3.\n",
      " |  These are exactly the valid indices for a list of 4 elements.\n",
      " |  When step is given, it specifies the increment (or decrement).\n",
      " |  \n",
      " |  Methods defined here:\n",
      " |  \n",
      " |  __bool__(self, /)\n",
      " |      True if self else False\n",
      " |  \n",
      " |  __contains__(self, key, /)\n",
      " |      Return key in self.\n",
      " |  \n",
      " |  __eq__(self, value, /)\n",
      " |      Return self==value.\n",
      " |  \n",
      " |  __ge__(self, value, /)\n",
      " |      Return self>=value.\n",
      " |  \n",
      " |  __getattribute__(self, name, /)\n",
      " |      Return getattr(self, name).\n",
      " |  \n",
      " |  __getitem__(self, key, /)\n",
      " |      Return self[key].\n",
      " |  \n",
      " |  __gt__(self, value, /)\n",
      " |      Return self>value.\n",
      " |  \n",
      " |  __hash__(self, /)\n",
      " |      Return hash(self).\n",
      " |  \n",
      " |  __iter__(self, /)\n",
      " |      Implement iter(self).\n",
      " |  \n",
      " |  __le__(self, value, /)\n",
      " |      Return self<=value.\n",
      " |  \n",
      " |  __len__(self, /)\n",
      " |      Return len(self).\n",
      " |  \n",
      " |  __lt__(self, value, /)\n",
      " |      Return self<value.\n",
      " |  \n",
      " |  __ne__(self, value, /)\n",
      " |      Return self!=value.\n",
      " |  \n",
      " |  __reduce__(...)\n",
      " |      Helper for pickle.\n",
      " |  \n",
      " |  __repr__(self, /)\n",
      " |      Return repr(self).\n",
      " |  \n",
      " |  __reversed__(...)\n",
      " |      Return a reverse iterator.\n",
      " |  \n",
      " |  count(...)\n",
      " |      rangeobject.count(value) -> integer -- return number of occurrences of value\n",
      " |  \n",
      " |  index(...)\n",
      " |      rangeobject.index(value) -> integer -- return index of value.\n",
      " |      Raise ValueError if the value is not present.\n",
      " |  \n",
      " |  ----------------------------------------------------------------------\n",
      " |  Static methods defined here:\n",
      " |  \n",
      " |  __new__(*args, **kwargs) from builtins.type\n",
      " |      Create and return a new object.  See help(type) for accurate signature.\n",
      " |  \n",
      " |  ----------------------------------------------------------------------\n",
      " |  Data descriptors defined here:\n",
      " |  \n",
      " |  start\n",
      " |  \n",
      " |  step\n",
      " |  \n",
      " |  stop\n",
      "\n"
     ]
    }
   ],
   "source": [
    "#built in function\n",
    "\n",
    "help(range)"
   ]
  },
  {
   "cell_type": "markdown",
   "metadata": {},
   "source": [
    "##### isinstance()"
   ]
  },
  {
   "cell_type": "code",
   "execution_count": 38,
   "metadata": {},
   "outputs": [
    {
     "ename": "NameError",
     "evalue": "name 'instructor' is not defined",
     "output_type": "error",
     "traceback": [
      "\u001b[0;31m---------------------------------------------------------------------------\u001b[0m",
      "\u001b[0;31mNameError\u001b[0m                                 Traceback (most recent call last)",
      "Cell \u001b[0;32mIn[38], line 3\u001b[0m\n\u001b[1;32m      1\u001b[0m \u001b[38;5;66;03m#like \"type\"\u001b[39;00m\n\u001b[0;32m----> 3\u001b[0m \u001b[38;5;28mtype\u001b[39m(\u001b[43minstructor\u001b[49m)\n\u001b[1;32m      5\u001b[0m \u001b[38;5;28mprint\u001b[39m(\u001b[38;5;28misinstance\u001b[39m(instructor, \u001b[38;5;28mstr\u001b[39m))\n",
      "\u001b[0;31mNameError\u001b[0m: name 'instructor' is not defined"
     ]
    }
   ],
   "source": [
    "#like \"type\"\n",
    "\n",
    "type(instructor)\n",
    "\n",
    "print(isinstance(instructor, str))"
   ]
  },
  {
   "cell_type": "markdown",
   "metadata": {},
   "source": [
    "##### abs()"
   ]
  },
  {
   "cell_type": "code",
   "execution_count": 39,
   "metadata": {},
   "outputs": [
    {
     "data": {
      "text/plain": [
       "True"
      ]
     },
     "execution_count": 39,
     "metadata": {},
     "output_type": "execute_result"
    }
   ],
   "source": [
    "abs(-5)==abs(5)\n",
    "\n",
    "#aboslute value "
   ]
  },
  {
   "cell_type": "markdown",
   "metadata": {},
   "source": [
    "### Try and Except"
   ]
  },
  {
   "cell_type": "code",
   "execution_count": 41,
   "metadata": {},
   "outputs": [
    {
     "name": "stdout",
     "output_type": "stream",
     "text": [
      "What is your age?ten\n",
      "Error enter age in digits\n"
     ]
    }
   ],
   "source": [
    "#commonly used to check for bugs, might get weong data\n",
    "#if try block is success, we good\n",
    "#if try block is bad, its a bug\n",
    "while true:\n",
    "    try:\n",
    "    user_age = int(input ('What is your age?'))\n",
    "    break\n",
    "except:\n",
    "    print('Error enter age in digits')\n",
    "    "
   ]
  },
  {
   "cell_type": "markdown",
   "metadata": {},
   "source": [
    "### Lists"
   ]
  },
  {
   "cell_type": "markdown",
   "metadata": {},
   "source": [
    "##### Declaring Lists"
   ]
  },
  {
   "cell_type": "code",
   "execution_count": null,
   "metadata": {},
   "outputs": [],
   "source": []
  },
  {
   "cell_type": "markdown",
   "metadata": {},
   "source": [
    "##### Indexing a List"
   ]
  },
  {
   "cell_type": "code",
   "execution_count": null,
   "metadata": {},
   "outputs": [],
   "source": []
  },
  {
   "cell_type": "markdown",
   "metadata": {},
   "source": [
    "##### .append()"
   ]
  },
  {
   "cell_type": "code",
   "execution_count": null,
   "metadata": {},
   "outputs": [],
   "source": []
  },
  {
   "cell_type": "markdown",
   "metadata": {},
   "source": [
    "##### .insert()"
   ]
  },
  {
   "cell_type": "code",
   "execution_count": null,
   "metadata": {},
   "outputs": [],
   "source": []
  },
  {
   "cell_type": "markdown",
   "metadata": {},
   "source": [
    "##### .pop()"
   ]
  },
  {
   "cell_type": "code",
   "execution_count": null,
   "metadata": {},
   "outputs": [],
   "source": []
  },
  {
   "cell_type": "markdown",
   "metadata": {},
   "source": [
    "\n",
    "##### .remove()"
   ]
  },
  {
   "cell_type": "code",
   "execution_count": null,
   "metadata": {},
   "outputs": [],
   "source": []
  },
  {
   "cell_type": "markdown",
   "metadata": {},
   "source": [
    "##### del()"
   ]
  },
  {
   "cell_type": "code",
   "execution_count": null,
   "metadata": {},
   "outputs": [],
   "source": []
  },
  {
   "cell_type": "markdown",
   "metadata": {},
   "source": [
    "##### Concatenating Two Lists"
   ]
  },
  {
   "cell_type": "code",
   "execution_count": null,
   "metadata": {},
   "outputs": [],
   "source": []
  },
  {
   "cell_type": "markdown",
   "metadata": {},
   "source": [
    "##### Lists Within Lists"
   ]
  },
  {
   "cell_type": "code",
   "execution_count": null,
   "metadata": {},
   "outputs": [],
   "source": []
  },
  {
   "cell_type": "markdown",
   "metadata": {},
   "source": [
    "##### Looping Through Lists"
   ]
  },
  {
   "cell_type": "code",
   "execution_count": null,
   "metadata": {},
   "outputs": [],
   "source": []
  },
  {
   "cell_type": "markdown",
   "metadata": {},
   "source": [
    "## Exercise #1 <br>\n",
    "<p>Cube Number Test... Print out all cubed numbers up to the total value 1000. Meaning that if the cubed number is over 1000 break the loop.</p>"
   ]
  },
  {
   "cell_type": "code",
   "execution_count": 45,
   "metadata": {},
   "outputs": [
    {
     "name": "stdout",
     "output_type": "stream",
     "text": [
      "1\n",
      "8\n",
      "27\n",
      "64\n",
      "125\n",
      "216\n",
      "343\n",
      "512\n",
      "729\n",
      "1000\n"
     ]
    }
   ],
   "source": [
    "#i being an integer variable in a loop short for index or iteration \n",
    "\n",
    "i = 1\n",
    "while True:\n",
    "    cube = i ** 3\n",
    "    if cube > 1000:\n",
    "        break \n",
    "    print(cube)\n",
    "    i += 1 #if I don't do this, itll be indefinitely 1 (same as i=i+1)"
   ]
  },
  {
   "cell_type": "markdown",
   "metadata": {},
   "source": [
    "## Exercise #2 <br>\n",
    "<p>Get first prime numbers up to 100</p>"
   ]
  },
  {
   "cell_type": "code",
   "execution_count": 52,
   "metadata": {},
   "outputs": [
    {
     "name": "stdout",
     "output_type": "stream",
     "text": [
      "[2, 3, 5, 7, 11, 13, 17, 19, 23, 29, 31, 37, 41, 43, 47, 53, 59, 61, 67, 71, 73, 79, 83, 89, 97]\n"
     ]
    }
   ],
   "source": [
    "# HINT::\n",
    "# An else after an if runs if the if didn’t\n",
    "# An else after a for runs if the for didn’t break\n",
    "\n",
    "primes = []\n",
    "for num in range(2,101):\n",
    "    for i in range(2, num):\n",
    "        if (num % i) == 0:\n",
    "            break\n",
    "    else:\n",
    "        primes.append(num)\n",
    "\n",
    "print(primes)\n"
   ]
  },
  {
   "cell_type": "markdown",
   "metadata": {},
   "source": [
    "# Exercise 3 <br>\n",
    "<p>Take in a users input for their age, if they are younger than 18 print kids, if they're 18 to 65 print adults, else print seniors</p>"
   ]
  },
  {
   "cell_type": "code",
   "execution_count": 56,
   "metadata": {},
   "outputs": [
    {
     "name": "stdout",
     "output_type": "stream",
     "text": [
      "Enter your age: 61\n",
      "You are an adult.\n"
     ]
    }
   ],
   "source": [
    "age = int(input(\"Enter your age: \"))\n",
    "\n",
    "if age <18:\n",
    "    print(\"You are a kid.\")\n",
    "elif age <= 65:\n",
    "    print(\"You are an adult.\")\n",
    "else:\n",
    "    print(\"You are a senior.\")"
   ]
  },
  {
   "cell_type": "code",
   "execution_count": null,
   "metadata": {},
   "outputs": [],
   "source": []
  }
 ],
 "metadata": {
  "kernelspec": {
   "display_name": "Python 3 (ipykernel)",
   "language": "python",
   "name": "python3"
  },
  "language_info": {
   "codemirror_mode": {
    "name": "ipython",
    "version": 3
   },
   "file_extension": ".py",
   "mimetype": "text/x-python",
   "name": "python",
   "nbconvert_exporter": "python",
   "pygments_lexer": "ipython3",
   "version": "3.10.9"
  }
 },
 "nbformat": 4,
 "nbformat_minor": 2
}
